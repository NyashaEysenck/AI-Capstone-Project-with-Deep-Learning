{
 "cells": [
  {
   "cell_type": "markdown",
   "metadata": {
    "id": "Di02ad3H2Cmf"
   },
   "source": [
    "<hr>\n",
    "\n",
    "Copyright &copy; 2020 [IBM Developer Skills Network](https://cognitiveclass.ai/?utm_source=bducopyrightlink&utm_medium=dswb&utm_campaign=bdu). This notebook and its source code are released under the terms of the [MIT License](https://bigdatauniversity.com/mit-license/).\n"
   ]
  },
  {
   "cell_type": "markdown",
   "metadata": {
    "button": false,
    "deletable": true,
    "id": "FqDBgM0UA1VD",
    "new_sheet": false,
    "run_control": {
     "read_only": false
    }
   },
   "source": [
    "<a href=\"https://cognitiveclass.ai\"><img src = \"https://s3-api.us-geo.objectstorage.softlayer.net/cf-courses-data/CognitiveClass/Logos/organization_logo/organization_logo.png\" width = 400> </a>\n",
    "\n",
    "<h1 align=center><font size = 5>Peer Review Final Assignment</font></h1>"
   ]
  },
  {
   "cell_type": "markdown",
   "metadata": {
    "button": false,
    "deletable": true,
    "id": "hHg4C1yjA1Ve",
    "new_sheet": false,
    "run_control": {
     "read_only": false
    }
   },
   "source": [
    "## Introduction\n"
   ]
  },
  {
   "cell_type": "markdown",
   "metadata": {
    "button": false,
    "deletable": true,
    "id": "qYj1AGBvA1Vf",
    "new_sheet": false,
    "run_control": {
     "read_only": false
    }
   },
   "source": [
    "In this lab, you will build an image classifier using the VGG16 pre-trained model, and you will evaluate it and compare its performance to the model we built in the last module using the ResNet50 pre-trained model. Good luck!"
   ]
  },
  {
   "cell_type": "markdown",
   "metadata": {
    "button": false,
    "deletable": true,
    "id": "sh6AdKQ6A1Vg",
    "new_sheet": false,
    "run_control": {
     "read_only": false
    }
   },
   "source": [
    "## Table of Contents\n",
    "\n",
    "<div class=\"alert alert-block alert-info\" style=\"margin-top: 20px\">\n",
    "\n",
    "<font size = 3>    \n",
    "\n",
    "1. <a href=\"#item41\">Download Data\n",
    "2. <a href=\"#item42\">Part 1</a>\n",
    "3. <a href=\"#item43\">Part 2</a>  \n",
    "4. <a href=\"#item44\">Part 3</a>  \n",
    "\n",
    "</font>\n",
    "    \n",
    "</div>"
   ]
  },
  {
   "cell_type": "markdown",
   "metadata": {
    "button": false,
    "deletable": true,
    "id": "plUvnmh_A1Vh",
    "new_sheet": false,
    "run_control": {
     "read_only": false
    }
   },
   "source": [
    "   "
   ]
  },
  {
   "cell_type": "markdown",
   "metadata": {
    "id": "psCbWIZ1A1Vi"
   },
   "source": [
    "<a id=\"item41\"></a>"
   ]
  },
  {
   "cell_type": "markdown",
   "metadata": {
    "id": "cCAvE_BLA1Vj"
   },
   "source": [
    "## Download Data"
   ]
  },
  {
   "cell_type": "markdown",
   "metadata": {
    "id": "S0A6IM-2A1Vk"
   },
   "source": [
    "Use the <code>wget</code> command to download the data for this assignment from here: https://s3-api.us-geo.objectstorage.softlayer.net/cf-courses-data/CognitiveClass/DL0321EN/data/concrete_data_week4.zip"
   ]
  },
  {
   "cell_type": "markdown",
   "metadata": {
    "id": "2UA87kFjA1Vk"
   },
   "source": [
    "Use the following cells to download the data."
   ]
  },
  {
   "cell_type": "code",
   "execution_count": 31,
   "metadata": {
    "colab": {
     "base_uri": "https://localhost:8080/"
    },
    "id": "7ULmF9DPA1Vl",
    "outputId": "bcb6008f-f2f7-4135-ead6-5a6d5f2dd683"
   },
   "outputs": [
    {
     "name": "stdout",
     "output_type": "stream",
     "text": [
      "File unzipped to /content/drive/My Drive/concrete_data_week4/\n"
     ]
    }
   ],
   "source": [
    "# from google.colab import drive\n",
    "# drive.mount('/content/drive')\n",
    "import zipfile\n",
    "import os\n",
    "\n",
    "# Path to the zip file in Google Drive\n",
    "zip_file_path = \"/content/drive/My Drive/Copy of concrete_data_week4.zip\"\n",
    "# Directory where you want to extract the contents\n",
    "extract_dir = \"/content/drive/My Drive/concrete_data_week4/\"\n",
    "\n",
    "# Create the directory if it doesn't exist\n",
    "if not os.path.exists(extract_dir):\n",
    "    os.makedirs(extract_dir)\n",
    "\n",
    "# Unzip the file\n",
    "with zipfile.ZipFile(zip_file_path, 'r') as zip_ref:\n",
    "    zip_ref.extractall(extract_dir)\n",
    "\n",
    "print(f\"File unzipped to {extract_dir}\")"
   ]
  },
  {
   "cell_type": "markdown",
   "metadata": {
    "id": "GZk8X1NqA1Vl"
   },
   "source": [
    "After you unzip the data, you fill find the data has already been divided into a train, validation, and test sets."
   ]
  },
  {
   "cell_type": "markdown",
   "metadata": {
    "id": "YRkWZj3mA1Vl"
   },
   "source": [
    "  "
   ]
  },
  {
   "cell_type": "markdown",
   "metadata": {
    "button": false,
    "deletable": true,
    "id": "KGgZUaUpA1Vm",
    "new_sheet": false,
    "run_control": {
     "read_only": false
    }
   },
   "source": [
    "<a id=\"item42\"></a>"
   ]
  },
  {
   "cell_type": "markdown",
   "metadata": {
    "id": "2gNqGZpQA1Vm"
   },
   "source": [
    "## Part 1"
   ]
  },
  {
   "cell_type": "markdown",
   "metadata": {
    "id": "7Zg3ySLLA1Vm"
   },
   "source": [
    "In this part, you will design a classifier using the VGG16 pre-trained model. Just like the ResNet50 model, you can import the model <code>VGG16</code> from <code>keras.applications</code>."
   ]
  },
  {
   "cell_type": "markdown",
   "metadata": {
    "id": "mxRqfbPjA1Vm"
   },
   "source": [
    "You will essentially build your classifier as follows:\n",
    "1. Import libraries, modules, and packages you will need. Make sure to import the *preprocess_input* function from <code>keras.applications.vgg16</code>.\n",
    "2. Use a batch size of 100 images for both training and validation.\n",
    "3. Construct an ImageDataGenerator for the training set and another one for the validation set. VGG16 was originally trained on 224 × 224 images, so make sure to address that when defining the ImageDataGenerator instances.\n",
    "4. Create a sequential model using Keras. Add VGG16 model to it and dense layer.\n",
    "5. Compile the mode using the adam optimizer and the categorical_crossentropy loss function.\n",
    "6. Fit the model on the augmented data using the ImageDataGenerators."
   ]
  },
  {
   "cell_type": "markdown",
   "metadata": {
    "id": "j7d66_NbA1Vo"
   },
   "source": [
    "Use the following cells to create your classifier."
   ]
  },
  {
   "cell_type": "code",
   "execution_count": 32,
   "metadata": {
    "id": "bgMaWrTbA1Vp"
   },
   "outputs": [],
   "source": [
    "from keras.preprocessing.image import ImageDataGenerator\n",
    "import keras\n",
    "from keras.models import Sequential\n",
    "from keras.layers import Dense\n",
    "from keras.applications import VGG16\n",
    "from keras.applications.vgg16 import preprocess_input"
   ]
  },
  {
   "cell_type": "code",
   "execution_count": 33,
   "metadata": {
    "id": "TzYHTzA2A1Vq"
   },
   "outputs": [],
   "source": [
    "num_classes = 2\n",
    "\n",
    "image_resize = 224\n",
    "\n",
    "batch_size_training = 100\n",
    "batch_size_validation = 100"
   ]
  },
  {
   "cell_type": "code",
   "execution_count": 71,
   "metadata": {
    "colab": {
     "base_uri": "https://localhost:8080/"
    },
    "id": "1vbK4B8pA1Vr",
    "outputId": "6055d670-48f3-44e9-9ebf-f20527db6845",
    "scrolled": true
   },
   "outputs": [
    {
     "name": "stdout",
     "output_type": "stream",
     "text": [
      "Found 30001 images belonging to 2 classes.\n",
      "Found 9501 images belonging to 2 classes.\n"
     ]
    }
   ],
   "source": [
    "data_generator = ImageDataGenerator(\n",
    "    preprocessing_function=preprocess_input,\n",
    ")\n",
    "\n",
    "train_generator = data_generator.flow_from_directory(\n",
    "    '/content/drive/My Drive/concrete_data_week4/concrete_data_week4/train',\n",
    "    target_size=(image_resize, image_resize),\n",
    "    batch_size=batch_size_training,\n",
    "    class_mode='categorical')\n",
    "\n",
    "validation_generator = data_generator.flow_from_directory(\n",
    "    '/content/drive/My Drive/concrete_data_week4/concrete_data_week4/valid',\n",
    "    target_size=(image_resize, image_resize),\n",
    "    batch_size=batch_size_validation,\n",
    "    class_mode='categorical')"
   ]
  },
  {
   "cell_type": "code",
   "execution_count": 73,
   "metadata": {
    "id": "xGHoJUaqA1Vr"
   },
   "outputs": [],
   "source": [
    "model = Sequential()"
   ]
  },
  {
   "cell_type": "code",
   "execution_count": 74,
   "metadata": {
    "id": "iwoTl513A1Vr"
   },
   "outputs": [],
   "source": [
    "model.add(VGG16(\n",
    "    include_top=False,\n",
    "    pooling='avg',\n",
    "    weights='imagenet',\n",
    "    ))\n",
    "\n",
    "model.add(Dense(num_classes, activation='softmax'))"
   ]
  },
  {
   "cell_type": "code",
   "execution_count": 75,
   "metadata": {
    "id": "f8bFlibbA1Vt"
   },
   "outputs": [],
   "source": [
    "model.layers[0].trainable = False"
   ]
  },
  {
   "cell_type": "code",
   "execution_count": 76,
   "metadata": {
    "colab": {
     "base_uri": "https://localhost:8080/"
    },
    "id": "WTAFt6u3A1Vu",
    "outputId": "470b4a54-3c14-48c5-9681-1c6494c341d9"
   },
   "outputs": [
    {
     "name": "stdout",
     "output_type": "stream",
     "text": [
      "Model: \"sequential_2\"\n",
      "_________________________________________________________________\n",
      " Layer (type)                Output Shape              Param #   \n",
      "=================================================================\n",
      " vgg16 (Functional)          (None, 512)               14714688  \n",
      "                                                                 \n",
      " dense_2 (Dense)             (None, 2)                 1026      \n",
      "                                                                 \n",
      "=================================================================\n",
      "Total params: 14715714 (56.14 MB)\n",
      "Trainable params: 1026 (4.01 KB)\n",
      "Non-trainable params: 14714688 (56.13 MB)\n",
      "_________________________________________________________________\n"
     ]
    }
   ],
   "source": [
    "model.summary()"
   ]
  },
  {
   "cell_type": "code",
   "execution_count": 77,
   "metadata": {
    "id": "oj7ELfraA1Vu"
   },
   "outputs": [],
   "source": [
    "model.compile(optimizer='adam', loss='categorical_crossentropy', metrics=['accuracy'])"
   ]
  },
  {
   "cell_type": "code",
   "execution_count": 78,
   "metadata": {
    "colab": {
     "base_uri": "https://localhost:8080/"
    },
    "id": "UC9FsG9dA1Vu",
    "outputId": "8a61317a-d591-4249-c461-5395f9d072f5"
   },
   "outputs": [
    {
     "data": {
      "text/plain": [
       "301"
      ]
     },
     "execution_count": 78,
     "metadata": {},
     "output_type": "execute_result"
    }
   ],
   "source": [
    "steps_per_epoch_training = len(train_generator)\n",
    "steps_per_epoch_validation = len(validation_generator)\n",
    "num_epochs = 2\n",
    "steps_per_epoch_training"
   ]
  },
  {
   "cell_type": "code",
   "execution_count": 79,
   "metadata": {
    "colab": {
     "base_uri": "https://localhost:8080/"
    },
    "id": "5G3XS4EcA1Vv",
    "outputId": "604d04e7-f2f8-4ef2-d88b-6630e3c02c3c"
   },
   "outputs": [
    {
     "name": "stdout",
     "output_type": "stream",
     "text": [
      "Epoch 1/2\n",
      "301/301 [==============================] - 446s 1s/step - loss: 0.0949 - accuracy: 0.9678 - val_loss: 0.0250 - val_accuracy: 0.9948\n",
      "Epoch 2/2\n",
      "301/301 [==============================] - 256s 849ms/step - loss: 0.0185 - accuracy: 0.9961 - val_loss: 0.0152 - val_accuracy: 0.9965\n"
     ]
    }
   ],
   "source": [
    "fit_history = model.fit(\n",
    "    train_generator,\n",
    "    steps_per_epoch=steps_per_epoch_training,\n",
    "    epochs=num_epochs,\n",
    "    validation_data=validation_generator,\n",
    "    validation_steps=steps_per_epoch_validation,\n",
    "    verbose=1,\n",
    ")"
   ]
  },
  {
   "cell_type": "markdown",
   "metadata": {
    "id": "O60D5-mUA1Vw"
   },
   "source": [
    "   "
   ]
  },
  {
   "cell_type": "markdown",
   "metadata": {
    "id": "NTRW7ZQpA1Vw"
   },
   "source": [
    "<a id=\"item43\"></a>"
   ]
  },
  {
   "cell_type": "markdown",
   "metadata": {
    "id": "DZSZPa4EA1Vw"
   },
   "source": [
    "## Part 2"
   ]
  },
  {
   "cell_type": "markdown",
   "metadata": {
    "id": "1j2AiRMHA1Vx"
   },
   "source": [
    "In this part, you will evaluate your deep learning models on a test data. For this part, you will need to do the following:\n",
    "\n",
    "1. Load your saved model that was built using the ResNet50 model.\n",
    "2. Construct an ImageDataGenerator for the test set. For this ImageDataGenerator instance, you only need to pass the directory of the test images, target size, and the **shuffle** parameter and set it to False.\n",
    "3. Use the **evaluate_generator** method to evaluate your models on the test data, by passing the above ImageDataGenerator as an argument. You can learn more about **evaluate_generator** [here](https://keras.io/models/sequential/).\n",
    "4. Print the performance of the classifier using the VGG16 pre-trained model.\n",
    "5. Print the performance of the classifier using the ResNet pre-trained model.\n"
   ]
  },
  {
   "cell_type": "markdown",
   "metadata": {
    "id": "6FZ94sfpA1Vx"
   },
   "source": [
    "Use the following cells to evaluate your models."
   ]
  },
  {
   "cell_type": "code",
   "execution_count": 53,
   "metadata": {
    "id": "d5YLd8x1A1Vx"
   },
   "outputs": [],
   "source": [
    "from tensorflow.keras.models import load_model\n",
    "resnet50_model = load_model('/content/classifier_resnet_model.keras')"
   ]
  },
  {
   "cell_type": "code",
   "execution_count": 81,
   "metadata": {
    "colab": {
     "base_uri": "https://localhost:8080/"
    },
    "id": "FBYgJWyDjrf9",
    "outputId": "28fe0de0-bbdb-47e3-f935-8e5dcd0ab224"
   },
   "outputs": [
    {
     "name": "stdout",
     "output_type": "stream",
     "text": [
      "Found 500 images belonging to 2 classes.\n"
     ]
    },
    {
     "name": "stderr",
     "output_type": "stream",
     "text": [
      "<ipython-input-81-8fd847d58b20>:8: UserWarning: `Model.evaluate_generator` is deprecated and will be removed in a future version. Please use `Model.evaluate`, which supports generators.\n",
      "  loss, accuracy = model.evaluate_generator(test_generator)\n"
     ]
    },
    {
     "name": "stdout",
     "output_type": "stream",
     "text": [
      "VGG16 pre-trained model: Test loss - 0.01156420074403286, Test accuracy -  0.9980000257492065\n"
     ]
    }
   ],
   "source": [
    "# Evaluate the model on the test data\n",
    "test_generator = data_generator.flow_from_directory(\n",
    "    '/content/drive/My Drive/concrete_data_week4/concrete_data_week4/test',\n",
    "    target_size=(image_resize, image_resize),\n",
    "    shuffle = False,\n",
    "  )\n",
    "\n",
    "loss, accuracy = model.evaluate_generator(test_generator)\n",
    "print(f'VGG16 pre-trained model: Test loss - {loss}, Test accuracy -  {accuracy}')\n"
   ]
  },
  {
   "cell_type": "code",
   "execution_count": 82,
   "metadata": {
    "colab": {
     "base_uri": "https://localhost:8080/"
    },
    "id": "0nhFobkqr7PA",
    "outputId": "6ece0b28-dd77-4c1e-96fd-8bec66d9403e"
   },
   "outputs": [
    {
     "name": "stderr",
     "output_type": "stream",
     "text": [
      "<ipython-input-82-c26bc93087df>:1: UserWarning: `Model.evaluate_generator` is deprecated and will be removed in a future version. Please use `Model.evaluate`, which supports generators.\n",
      "  loss, accuracy = resnet50_model.evaluate_generator(test_generator)\n"
     ]
    },
    {
     "name": "stdout",
     "output_type": "stream",
     "text": [
      "ResNet pre-trained model.: Test loss - 0.006428195163607597, Test accuracy -  0.9959999918937683\n"
     ]
    }
   ],
   "source": [
    "loss, accuracy = resnet50_model.evaluate_generator(test_generator)\n",
    "print(f'ResNet pre-trained model.: Test loss - {loss}, Test accuracy -  {accuracy}')\n"
   ]
  },
  {
   "cell_type": "markdown",
   "metadata": {
    "id": "5j2BniPlA1Vy"
   },
   "source": [
    "   "
   ]
  },
  {
   "cell_type": "markdown",
   "metadata": {
    "id": "mX3MuxmxA1V0"
   },
   "source": [
    "<a id=\"item44\"></a>"
   ]
  },
  {
   "cell_type": "markdown",
   "metadata": {
    "id": "URd0f6TiA1V0"
   },
   "source": [
    "## Part 3"
   ]
  },
  {
   "cell_type": "markdown",
   "metadata": {
    "id": "Wf596yQgA1V0"
   },
   "source": [
    "In this model, you will predict whether the images in the test data are images of cracked concrete or not. You will do the following:\n",
    "\n",
    "1. Use the **predict_generator** method to predict the class of the images in the test data, by passing the test data ImageDataGenerator instance defined in the previous part as an argument. You can learn more about the **predict_generator** method [here](https://keras.io/models/sequential/).\n",
    "2. Report the class predictions of the first five images in the test set. You should print something list this:\n",
    "\n",
    "<center>\n",
    "    <ul style=\"list-style-type:none\">\n",
    "        <li>Positive</li>  \n",
    "        <li>Negative</li>\n",
    "        <li>Positive</li>\n",
    "        <li>Positive</li>\n",
    "        <li>Negative</li>\n",
    "    </ul>\n",
    "</center>"
   ]
  },
  {
   "cell_type": "markdown",
   "metadata": {
    "id": "wl9hJ_1tA1V1"
   },
   "source": [
    "Use the following cells to make your predictions."
   ]
  },
  {
   "cell_type": "code",
   "execution_count": 83,
   "metadata": {
    "colab": {
     "base_uri": "https://localhost:8080/"
    },
    "id": "muF0vhdoA1V1",
    "outputId": "aa24b44a-5aa1-4c58-8af2-edc9c3c29090"
   },
   "outputs": [
    {
     "name": "stderr",
     "output_type": "stream",
     "text": [
      "<ipython-input-83-4019ab01c51f>:3: UserWarning: `Model.predict_generator` is deprecated and will be removed in a future version. Please use `Model.predict`, which supports generators.\n",
      "  vgg_predictions = model.predict_generator(test_generator)\n",
      "<ipython-input-83-4019ab01c51f>:4: UserWarning: `Model.predict_generator` is deprecated and will be removed in a future version. Please use `Model.predict`, which supports generators.\n",
      "  resnet_predictions = resnet50_model.predict_generator(test_generator)\n"
     ]
    }
   ],
   "source": [
    "import numpy as np\n",
    "# Predict the class of the images in the test set\n",
    "vgg_predictions = model.predict_generator(test_generator)\n",
    "resnet_predictions = resnet50_model.predict_generator(test_generator)"
   ]
  },
  {
   "cell_type": "code",
   "execution_count": 84,
   "metadata": {
    "id": "93NkS7dNA1V1"
   },
   "outputs": [],
   "source": [
    "# Get the class indices\n",
    "class_indices = test_generator.class_indices\n",
    "index_to_class = {v: k for k, v in class_indices.items()}"
   ]
  },
  {
   "cell_type": "code",
   "execution_count": 85,
   "metadata": {
    "colab": {
     "base_uri": "https://localhost:8080/"
    },
    "id": "MxQOeb0fA1V2",
    "outputId": "03f43ee3-b225-469f-bdc9-34378ed9d9d9"
   },
   "outputs": [
    {
     "name": "stdout",
     "output_type": "stream",
     "text": [
      "VGG Model First five predictions:\n",
      "negative\n",
      "negative\n",
      "negative\n",
      "negative\n",
      "negative\n"
     ]
    }
   ],
   "source": [
    "# Convert predictions to class labels\n",
    "vgg_predicted_classes = np.argmax(vgg_predictions, axis=1)\n",
    "vgg_predicted_labels = [index_to_class[idx] for idx in vgg_predicted_classes]\n",
    "\n",
    "# Report the class predictions of the first five images in the test set\n",
    "print(\"VGG Model First five predictions:\")\n",
    "for label in vgg_predicted_labels[:5]:\n",
    "  print(label)"
   ]
  },
  {
   "cell_type": "code",
   "execution_count": 86,
   "metadata": {
    "colab": {
     "base_uri": "https://localhost:8080/"
    },
    "id": "4YbcPvHaA1V2",
    "outputId": "dd841a33-1798-4835-fb7d-50b74fc852cb"
   },
   "outputs": [
    {
     "name": "stdout",
     "output_type": "stream",
     "text": [
      "Resnet Model First five predictions:\n",
      "negative\n",
      "negative\n",
      "negative\n",
      "negative\n",
      "negative\n"
     ]
    }
   ],
   "source": [
    "# Convert predictions to class labels\n",
    "resnet_predicted_classes = np.argmax(resnet_predictions, axis=1)\n",
    "resnet_predicted_labels = [index_to_class[idx] for idx in resnet_predicted_classes]\n",
    "\n",
    "# Report the class predictions of the first five images in the test set\n",
    "print(\"Resnet Model First five predictions:\")\n",
    "for label in resnet_predicted_labels[:5]:\n",
    "  print(label)"
   ]
  },
  {
   "cell_type": "markdown",
   "metadata": {
    "id": "JsklMSQ8A1V2"
   },
   "source": [
    "  "
   ]
  },
  {
   "cell_type": "markdown",
   "metadata": {
    "button": false,
    "deletable": true,
    "id": "kedWyLyWA1V2",
    "new_sheet": false,
    "run_control": {
     "read_only": false
    }
   },
   "source": [
    "### Thank you for completing this lab!\n",
    "\n",
    "This notebook was created by Alex Aklson."
   ]
  },
  {
   "cell_type": "markdown",
   "metadata": {
    "button": false,
    "deletable": true,
    "id": "hKYPfQApA1V3",
    "new_sheet": false,
    "run_control": {
     "read_only": false
    }
   },
   "source": [
    "This notebook is part of a course on **Coursera** called *AI Capstone Project with Deep Learning*. If you accessed this notebook outside the course, you can take this course online by clicking [here](https://cocl.us/DL0321EN_Coursera_Week4_LAB1)."
   ]
  },
  {
   "cell_type": "markdown",
   "metadata": {
    "button": false,
    "deletable": true,
    "id": "JkjPmAqrA1V4",
    "new_sheet": false,
    "run_control": {
     "read_only": false
    }
   },
   "source": [
    "<hr>\n",
    "\n",
    "Copyright &copy; 2020 [IBM Developer Skills Network](https://cognitiveclass.ai/?utm_source=bducopyrightlink&utm_medium=dswb&utm_campaign=bdu). This notebook and its source code are released under the terms of the [MIT License](https://bigdatauniversity.com/mit-license/)."
   ]
  }
 ],
 "metadata": {
  "accelerator": "GPU",
  "colab": {
   "gpuType": "T4",
   "provenance": []
  },
  "kernelspec": {
   "display_name": "Python 3 (ipykernel)",
   "language": "python",
   "name": "python3"
  },
  "language_info": {
   "codemirror_mode": {
    "name": "ipython",
    "version": 3
   },
   "file_extension": ".py",
   "mimetype": "text/x-python",
   "name": "python",
   "nbconvert_exporter": "python",
   "pygments_lexer": "ipython3",
   "version": "3.10.6"
  }
 },
 "nbformat": 4,
 "nbformat_minor": 4
}
